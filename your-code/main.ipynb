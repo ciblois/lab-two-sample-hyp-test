{
 "cells": [
  {
   "cell_type": "markdown",
   "metadata": {},
   "source": [
    "# Before your start:\n",
    "- Read the README.md file\n",
    "- Comment as much as you can and use the resources (README.md file)\n",
    "- Happy learning!\n",
    "\n",
    "- **Consider a significance level of 5% for all tests.**"
   ]
  },
  {
   "cell_type": "code",
   "execution_count": 1,
   "metadata": {},
   "outputs": [],
   "source": [
    "import numpy as np\n",
    "import pandas as pd\n",
    "\n",
    "import scipy.stats as st\n",
    "\n",
    "import matplotlib.pyplot as plt\n",
    "import seaborn as sns"
   ]
  },
  {
   "cell_type": "markdown",
   "metadata": {},
   "source": [
    "# Challenge 1 - Independent Sample T-tests\n",
    "\n",
    "In this challenge, we will be using the Pokemon dataset. Before applying statistical methods to this data, let's first examine the data.\n",
    "\n",
    "To load the data, run the code below."
   ]
  },
  {
   "source": [
    "The independent t-test, also called the two sample t-test, independent-samples t-test or student's t-test, is an inferential statistical test that determines whether there is a statistically significant difference between the means in two unrelated groups.\n",
    "\n",
    "The null hypothesis for the independent t-test is that the population means from the two unrelated groups are equal:\n",
    "\n",
    "$H_0: \\mu1 = \\mu2$\n",
    "\n",
    "In most cases, we are looking to see if we can show that we can reject the null hypothesis and accept the alternative hypothesis, which is that the population means are not equal:\n",
    "\n",
    "$H_1: \\mu1 ≠ \\mu2$\n",
    "\n",
    "Unrelated groups, also called unpaired groups or independent groups, are groups in which the cases (e.g., participants) in each group are different. Often we are investigating differences in individuals, which means that when comparing two groups, an individual in one group cannot also be a member of the other group and vice versa. An example would be gender - an individual would have to be classified as either male or female – not both."
   ],
   "cell_type": "markdown",
   "metadata": {}
  },
  {
   "cell_type": "code",
   "execution_count": 2,
   "metadata": {},
   "outputs": [],
   "source": [
    "pokemon = pd.read_csv('../pokemon.csv')"
   ]
  },
  {
   "cell_type": "markdown",
   "metadata": {},
   "source": [
    "Let's start off by looking at the `head` function in the cell below."
   ]
  },
  {
   "cell_type": "code",
   "execution_count": 3,
   "metadata": {},
   "outputs": [
    {
     "output_type": "execute_result",
     "data": {
      "text/plain": [
       "   #                   Name Type 1  Type 2  Total  HP  Attack  Defense  \\\n",
       "0  1              Bulbasaur  Grass  Poison    318  45      49       49   \n",
       "1  2                Ivysaur  Grass  Poison    405  60      62       63   \n",
       "2  3               Venusaur  Grass  Poison    525  80      82       83   \n",
       "3  3  VenusaurMega Venusaur  Grass  Poison    625  80     100      123   \n",
       "4  4             Charmander   Fire     NaN    309  39      52       43   \n",
       "\n",
       "   Sp. Atk  Sp. Def  Speed  Generation  Legendary  \n",
       "0       65       65     45           1      False  \n",
       "1       80       80     60           1      False  \n",
       "2      100      100     80           1      False  \n",
       "3      122      120     80           1      False  \n",
       "4       60       50     65           1      False  "
      ],
      "text/html": "<div>\n<style scoped>\n    .dataframe tbody tr th:only-of-type {\n        vertical-align: middle;\n    }\n\n    .dataframe tbody tr th {\n        vertical-align: top;\n    }\n\n    .dataframe thead th {\n        text-align: right;\n    }\n</style>\n<table border=\"1\" class=\"dataframe\">\n  <thead>\n    <tr style=\"text-align: right;\">\n      <th></th>\n      <th>#</th>\n      <th>Name</th>\n      <th>Type 1</th>\n      <th>Type 2</th>\n      <th>Total</th>\n      <th>HP</th>\n      <th>Attack</th>\n      <th>Defense</th>\n      <th>Sp. Atk</th>\n      <th>Sp. Def</th>\n      <th>Speed</th>\n      <th>Generation</th>\n      <th>Legendary</th>\n    </tr>\n  </thead>\n  <tbody>\n    <tr>\n      <th>0</th>\n      <td>1</td>\n      <td>Bulbasaur</td>\n      <td>Grass</td>\n      <td>Poison</td>\n      <td>318</td>\n      <td>45</td>\n      <td>49</td>\n      <td>49</td>\n      <td>65</td>\n      <td>65</td>\n      <td>45</td>\n      <td>1</td>\n      <td>False</td>\n    </tr>\n    <tr>\n      <th>1</th>\n      <td>2</td>\n      <td>Ivysaur</td>\n      <td>Grass</td>\n      <td>Poison</td>\n      <td>405</td>\n      <td>60</td>\n      <td>62</td>\n      <td>63</td>\n      <td>80</td>\n      <td>80</td>\n      <td>60</td>\n      <td>1</td>\n      <td>False</td>\n    </tr>\n    <tr>\n      <th>2</th>\n      <td>3</td>\n      <td>Venusaur</td>\n      <td>Grass</td>\n      <td>Poison</td>\n      <td>525</td>\n      <td>80</td>\n      <td>82</td>\n      <td>83</td>\n      <td>100</td>\n      <td>100</td>\n      <td>80</td>\n      <td>1</td>\n      <td>False</td>\n    </tr>\n    <tr>\n      <th>3</th>\n      <td>3</td>\n      <td>VenusaurMega Venusaur</td>\n      <td>Grass</td>\n      <td>Poison</td>\n      <td>625</td>\n      <td>80</td>\n      <td>100</td>\n      <td>123</td>\n      <td>122</td>\n      <td>120</td>\n      <td>80</td>\n      <td>1</td>\n      <td>False</td>\n    </tr>\n    <tr>\n      <th>4</th>\n      <td>4</td>\n      <td>Charmander</td>\n      <td>Fire</td>\n      <td>NaN</td>\n      <td>309</td>\n      <td>39</td>\n      <td>52</td>\n      <td>43</td>\n      <td>60</td>\n      <td>50</td>\n      <td>65</td>\n      <td>1</td>\n      <td>False</td>\n    </tr>\n  </tbody>\n</table>\n</div>"
     },
     "metadata": {},
     "execution_count": 3
    }
   ],
   "source": [
    "pokemon.head()"
   ]
  },
  {
   "cell_type": "markdown",
   "metadata": {},
   "source": [
    "The first thing we would like to do is compare the legendary Pokemon to the regular Pokemon. To do this, we should examine the data further. What is the count of legendary vs. non legendary Pokemons?"
   ]
  },
  {
   "cell_type": "code",
   "execution_count": 4,
   "metadata": {},
   "outputs": [
    {
     "output_type": "stream",
     "name": "stdout",
     "text": [
      "#Legendary:65 #Regular:735\n"
     ]
    }
   ],
   "source": [
    "legendary = pokemon[pokemon['Legendary']==True]\n",
    "regular = pokemon[pokemon['Legendary']==False]\n",
    "print(\"#Legendary:{0} #Regular:{1}\".format(legendary.shape[0],regular.shape[0]))"
   ]
  },
  {
   "cell_type": "markdown",
   "metadata": {},
   "source": [
    "Compute the mean and standard deviation of the total points for both legendary and non-legendary Pokemon."
   ]
  },
  {
   "cell_type": "code",
   "execution_count": 5,
   "metadata": {},
   "outputs": [
    {
     "output_type": "stream",
     "name": "stdout",
     "text": [
      "For Legendary:\n Mean:637.385 Standart Deviation:60.937\nFor Regular:\n Mean:417.214 Standart Deviation:106.76\n"
     ]
    }
   ],
   "source": [
    "mean_legendary = legendary['Total'].mean()\n",
    "std_legendary = legendary['Total'].std()\n",
    "\n",
    "mean_regular = regular['Total'].mean()\n",
    "std_regular = regular['Total'].std()\n",
    "\n",
    "print(\"For Legendary:\\n Mean:{0} Standart Deviation:{1}\".format(round(mean_legendary,3),round(std_legendary,3)))\n",
    "print(\"For Regular:\\n Mean:{0} Standart Deviation:{1}\".format(round(mean_regular,3),round(std_regular,3)))"
   ]
  },
  {
   "cell_type": "markdown",
   "metadata": {},
   "source": [
    "The computation of the mean might give us a clue regarding how the statistical test may turn out; However, it certainly does not prove whether there is a significant difference between the two groups.\n",
    "\n",
    "In the cell below, use the `ttest_ind` function in `scipy.stats` to compare the the total points for legendary and non-legendary Pokemon. Since we do not have any information about the population, assume the variances are not equal."
   ]
  },
  {
   "source": [
    "$H_0: \\mu_{legendary} = \\mu_{non_legendary}$\n",
    "\n",
    "$H_1: \\mu _{legendary} ≠ \\mu_{non_legendary}$"
   ],
   "cell_type": "markdown",
   "metadata": {}
  },
  {
   "cell_type": "code",
   "execution_count": 6,
   "metadata": {},
   "outputs": [
    {
     "output_type": "stream",
     "name": "stdout",
     "text": [
      "P-Value:25.8335743895517 T-Statistic:9.357954335957446e-47\n"
     ]
    }
   ],
   "source": [
    "# Your code here:\n",
    "group1 = legendary['Total']\n",
    "group2 = regular['Total']\n",
    "\n",
    "# With the independent samples t test, you don’t need to know this information. You should use this test when:\n",
    "# You do not know the population mean or standard deviation.\n",
    "# You have two independent, separate samples.\n",
    "\n",
    "pValue, tStat = st.ttest_ind(group1,group2, equal_var = False)\n",
    "print(\"P-Value:{0} T-Statistic:{1}\".format(pValue,tStat))"
   ]
  },
  {
   "cell_type": "markdown",
   "metadata": {},
   "source": [
    "What do you conclude from this test? Write your conclusions below."
   ]
  },
  {
   "cell_type": "code",
   "execution_count": 7,
   "metadata": {},
   "outputs": [],
   "source": [
    "# we can conclude that there isn't a significant difference between the two sample means because the p-value is very high."
   ]
  },
  {
   "source": [
    "\n",
    "\n",
    "Valor de p > α: A diferença entre as médias não é estatisticamente significativa (não deve rejeitar H0)\n",
    "Se o valor de p for maior do que o nível de significância, você não deve rejeitar a hipótese nula. Não há evidências suficientes para concluir que a diferença entre as médias da população é estatisticamente significativa. "
   ],
   "cell_type": "markdown",
   "metadata": {}
  },
  {
   "cell_type": "markdown",
   "metadata": {},
   "source": [
    "How about we try to compare the different types of pokemon? In the cell below, list the types of Pokemon from column `Type 1` and the count of each type."
   ]
  },
  {
   "cell_type": "code",
   "execution_count": 8,
   "metadata": {},
   "outputs": [],
   "source": [
    "# we are going to compare 1 categorical variables"
   ]
  },
  {
   "cell_type": "code",
   "execution_count": 9,
   "metadata": {},
   "outputs": [
    {
     "output_type": "execute_result",
     "data": {
      "text/plain": [
       "      Type 1  Name\n",
       "0        Bug    69\n",
       "1       Dark    31\n",
       "2     Dragon    32\n",
       "3   Electric    44\n",
       "4      Fairy    17\n",
       "5   Fighting    27\n",
       "6       Fire    52\n",
       "7     Flying     4\n",
       "8      Ghost    32\n",
       "9      Grass    70\n",
       "10    Ground    32\n",
       "11       Ice    24\n",
       "12    Normal    98\n",
       "13    Poison    28\n",
       "14   Psychic    57\n",
       "15      Rock    44\n",
       "16     Steel    27\n",
       "17     Water   112"
      ],
      "text/html": "<div>\n<style scoped>\n    .dataframe tbody tr th:only-of-type {\n        vertical-align: middle;\n    }\n\n    .dataframe tbody tr th {\n        vertical-align: top;\n    }\n\n    .dataframe thead th {\n        text-align: right;\n    }\n</style>\n<table border=\"1\" class=\"dataframe\">\n  <thead>\n    <tr style=\"text-align: right;\">\n      <th></th>\n      <th>Type 1</th>\n      <th>Name</th>\n    </tr>\n  </thead>\n  <tbody>\n    <tr>\n      <th>0</th>\n      <td>Bug</td>\n      <td>69</td>\n    </tr>\n    <tr>\n      <th>1</th>\n      <td>Dark</td>\n      <td>31</td>\n    </tr>\n    <tr>\n      <th>2</th>\n      <td>Dragon</td>\n      <td>32</td>\n    </tr>\n    <tr>\n      <th>3</th>\n      <td>Electric</td>\n      <td>44</td>\n    </tr>\n    <tr>\n      <th>4</th>\n      <td>Fairy</td>\n      <td>17</td>\n    </tr>\n    <tr>\n      <th>5</th>\n      <td>Fighting</td>\n      <td>27</td>\n    </tr>\n    <tr>\n      <th>6</th>\n      <td>Fire</td>\n      <td>52</td>\n    </tr>\n    <tr>\n      <th>7</th>\n      <td>Flying</td>\n      <td>4</td>\n    </tr>\n    <tr>\n      <th>8</th>\n      <td>Ghost</td>\n      <td>32</td>\n    </tr>\n    <tr>\n      <th>9</th>\n      <td>Grass</td>\n      <td>70</td>\n    </tr>\n    <tr>\n      <th>10</th>\n      <td>Ground</td>\n      <td>32</td>\n    </tr>\n    <tr>\n      <th>11</th>\n      <td>Ice</td>\n      <td>24</td>\n    </tr>\n    <tr>\n      <th>12</th>\n      <td>Normal</td>\n      <td>98</td>\n    </tr>\n    <tr>\n      <th>13</th>\n      <td>Poison</td>\n      <td>28</td>\n    </tr>\n    <tr>\n      <th>14</th>\n      <td>Psychic</td>\n      <td>57</td>\n    </tr>\n    <tr>\n      <th>15</th>\n      <td>Rock</td>\n      <td>44</td>\n    </tr>\n    <tr>\n      <th>16</th>\n      <td>Steel</td>\n      <td>27</td>\n    </tr>\n    <tr>\n      <th>17</th>\n      <td>Water</td>\n      <td>112</td>\n    </tr>\n  </tbody>\n</table>\n</div>"
     },
     "metadata": {},
     "execution_count": 9
    }
   ],
   "source": [
    "type1 = pokemon.groupby('Type 1').agg({'Name':'count'}).reset_index()\n",
    "type1"
   ]
  },
  {
   "cell_type": "markdown",
   "metadata": {},
   "source": [
    "Since water is the largest group of Pokemon, compare the mean and standard deviation of water Pokemon to all other Pokemon."
   ]
  },
  {
   "cell_type": "code",
   "execution_count": 10,
   "metadata": {},
   "outputs": [
    {
     "output_type": "execute_result",
     "data": {
      "text/plain": [
       "      Type 1  Name  type_mean       std\n",
       "0        Bug    69    0.08625  0.034877\n",
       "1       Dark    31    0.03875  0.034877\n",
       "2     Dragon    32    0.04000  0.034877\n",
       "3   Electric    44    0.05500  0.034877\n",
       "4      Fairy    17    0.02125  0.034877\n",
       "5   Fighting    27    0.03375  0.034877\n",
       "6       Fire    52    0.06500  0.034877\n",
       "7     Flying     4    0.00500  0.034877\n",
       "8      Ghost    32    0.04000  0.034877\n",
       "9      Grass    70    0.08750  0.034877\n",
       "10    Ground    32    0.04000  0.034877\n",
       "11       Ice    24    0.03000  0.034877\n",
       "12    Normal    98    0.12250  0.034877\n",
       "13    Poison    28    0.03500  0.034877\n",
       "14   Psychic    57    0.07125  0.034877\n",
       "15      Rock    44    0.05500  0.034877\n",
       "16     Steel    27    0.03375  0.034877\n",
       "17     Water   112    0.14000  0.034877"
      ],
      "text/html": "<div>\n<style scoped>\n    .dataframe tbody tr th:only-of-type {\n        vertical-align: middle;\n    }\n\n    .dataframe tbody tr th {\n        vertical-align: top;\n    }\n\n    .dataframe thead th {\n        text-align: right;\n    }\n</style>\n<table border=\"1\" class=\"dataframe\">\n  <thead>\n    <tr style=\"text-align: right;\">\n      <th></th>\n      <th>Type 1</th>\n      <th>Name</th>\n      <th>type_mean</th>\n      <th>std</th>\n    </tr>\n  </thead>\n  <tbody>\n    <tr>\n      <th>0</th>\n      <td>Bug</td>\n      <td>69</td>\n      <td>0.08625</td>\n      <td>0.034877</td>\n    </tr>\n    <tr>\n      <th>1</th>\n      <td>Dark</td>\n      <td>31</td>\n      <td>0.03875</td>\n      <td>0.034877</td>\n    </tr>\n    <tr>\n      <th>2</th>\n      <td>Dragon</td>\n      <td>32</td>\n      <td>0.04000</td>\n      <td>0.034877</td>\n    </tr>\n    <tr>\n      <th>3</th>\n      <td>Electric</td>\n      <td>44</td>\n      <td>0.05500</td>\n      <td>0.034877</td>\n    </tr>\n    <tr>\n      <th>4</th>\n      <td>Fairy</td>\n      <td>17</td>\n      <td>0.02125</td>\n      <td>0.034877</td>\n    </tr>\n    <tr>\n      <th>5</th>\n      <td>Fighting</td>\n      <td>27</td>\n      <td>0.03375</td>\n      <td>0.034877</td>\n    </tr>\n    <tr>\n      <th>6</th>\n      <td>Fire</td>\n      <td>52</td>\n      <td>0.06500</td>\n      <td>0.034877</td>\n    </tr>\n    <tr>\n      <th>7</th>\n      <td>Flying</td>\n      <td>4</td>\n      <td>0.00500</td>\n      <td>0.034877</td>\n    </tr>\n    <tr>\n      <th>8</th>\n      <td>Ghost</td>\n      <td>32</td>\n      <td>0.04000</td>\n      <td>0.034877</td>\n    </tr>\n    <tr>\n      <th>9</th>\n      <td>Grass</td>\n      <td>70</td>\n      <td>0.08750</td>\n      <td>0.034877</td>\n    </tr>\n    <tr>\n      <th>10</th>\n      <td>Ground</td>\n      <td>32</td>\n      <td>0.04000</td>\n      <td>0.034877</td>\n    </tr>\n    <tr>\n      <th>11</th>\n      <td>Ice</td>\n      <td>24</td>\n      <td>0.03000</td>\n      <td>0.034877</td>\n    </tr>\n    <tr>\n      <th>12</th>\n      <td>Normal</td>\n      <td>98</td>\n      <td>0.12250</td>\n      <td>0.034877</td>\n    </tr>\n    <tr>\n      <th>13</th>\n      <td>Poison</td>\n      <td>28</td>\n      <td>0.03500</td>\n      <td>0.034877</td>\n    </tr>\n    <tr>\n      <th>14</th>\n      <td>Psychic</td>\n      <td>57</td>\n      <td>0.07125</td>\n      <td>0.034877</td>\n    </tr>\n    <tr>\n      <th>15</th>\n      <td>Rock</td>\n      <td>44</td>\n      <td>0.05500</td>\n      <td>0.034877</td>\n    </tr>\n    <tr>\n      <th>16</th>\n      <td>Steel</td>\n      <td>27</td>\n      <td>0.03375</td>\n      <td>0.034877</td>\n    </tr>\n    <tr>\n      <th>17</th>\n      <td>Water</td>\n      <td>112</td>\n      <td>0.14000</td>\n      <td>0.034877</td>\n    </tr>\n  </tbody>\n</table>\n</div>"
     },
     "metadata": {},
     "execution_count": 10
    }
   ],
   "source": [
    "type1['type_mean'] = type1['Name']/pokemon.shape[0]\n",
    "type1['std'] = type1['type_mean'].std()\n",
    "type1"
   ]
  },
  {
   "cell_type": "code",
   "execution_count": 11,
   "metadata": {},
   "outputs": [],
   "source": [
    "# Type Water have the highest mean among all the types and the standard deviation is equal for all types."
   ]
  },
  {
   "cell_type": "markdown",
   "metadata": {},
   "source": [
    "Perform a hypothesis test comparing the mean of total points for water Pokemon to all non-water Pokemon. Assume the variances are equal. "
   ]
  },
  {
   "source": [
    "$H_0: \\mu_{water} = \\mu_{non_water}$\n",
    "\n",
    "$H_1: \\mu _{water} ≠ \\mu_{non_water}$"
   ],
   "cell_type": "markdown",
   "metadata": {}
  },
  {
   "cell_type": "code",
   "execution_count": 12,
   "metadata": {},
   "outputs": [],
   "source": [
    "#group_non_water = type1.iloc[0:17]\n",
    "#group1 = group_non_water['Name']\n",
    "#group_water = type1.iloc[17:]\n",
    "#group2 = group_water['Name']\n",
    "\n",
    "#pValue, tStat = st.ttest_ind(group1,group2, equal_var = True)\n",
    "#print(\"P-Value:{0} \\nT-Statistic:{1}\".format(pValue,tStat))"
   ]
  },
  {
   "cell_type": "code",
   "execution_count": 23,
   "metadata": {},
   "outputs": [
    {
     "output_type": "execute_result",
     "data": {
      "text/plain": [
       "      water?  Name  type_mean       std\n",
       "0  Non_water   688       0.86  0.509117\n",
       "1      Water   112       0.14  0.509117"
      ],
      "text/html": "<div>\n<style scoped>\n    .dataframe tbody tr th:only-of-type {\n        vertical-align: middle;\n    }\n\n    .dataframe tbody tr th {\n        vertical-align: top;\n    }\n\n    .dataframe thead th {\n        text-align: right;\n    }\n</style>\n<table border=\"1\" class=\"dataframe\">\n  <thead>\n    <tr style=\"text-align: right;\">\n      <th></th>\n      <th>water?</th>\n      <th>Name</th>\n      <th>type_mean</th>\n      <th>std</th>\n    </tr>\n  </thead>\n  <tbody>\n    <tr>\n      <th>0</th>\n      <td>Non_water</td>\n      <td>688</td>\n      <td>0.86</td>\n      <td>0.509117</td>\n    </tr>\n    <tr>\n      <th>1</th>\n      <td>Water</td>\n      <td>112</td>\n      <td>0.14</td>\n      <td>0.509117</td>\n    </tr>\n  </tbody>\n</table>\n</div>"
     },
     "metadata": {},
     "execution_count": 23
    }
   ],
   "source": [
    "# compare between water and non-water pokemons\n",
    "\n",
    "pokemon['water?'] = np.where((pokemon['Type 1']=='Water'),'Water','Non_water')\n",
    "\n",
    "type_water = pokemon.groupby(['water?']).agg({'Name':'count'}).reset_index()\n",
    "type_water['type_mean'] = type_water['Name']/pokemon.shape[0]\n",
    "type_water['std'] = type_water['type_mean'].std()\n",
    "type_water"
   ]
  },
  {
   "cell_type": "code",
   "execution_count": 22,
   "metadata": {},
   "outputs": [
    {
     "output_type": "stream",
     "name": "stdout",
     "text": [
      "P-Value:-13.879481258317979 \nT-Statistic:2.1522479816333853e-39\n"
     ]
    }
   ],
   "source": [
    "# In this analysis we have to get the mean and the std to run the t-test because we are comparing categorical variables. So, we are going to use the using the information showed in the dataframe below.\n",
    "\n",
    "pValue, tStat = st.ttest_ind_from_stats(mean1=type_water.iloc[1,2], std1=type_water.iloc[1,3], nobs1=type_water.iloc[1,1],mean2=type_water.iloc[0,2], std2=type_water.iloc[0,3], nobs2=type_water.iloc[0,1], equal_var = True)\n",
    "print(\"P-Value:{0} \\nT-Statistic:{1}\".format(pValue,tStat))"
   ]
  },
  {
   "cell_type": "markdown",
   "metadata": {},
   "source": [
    "Write your conclusion below."
   ]
  },
  {
   "cell_type": "code",
   "execution_count": null,
   "metadata": {},
   "outputs": [],
   "source": [
    "# Your conclusions here:\n",
    "\n",
    "# P-value is negative. So they don't have the same average (reject null hypthesis)."
   ]
  },
  {
   "cell_type": "markdown",
   "metadata": {},
   "source": [
    "# Challenge 2 - Matched Pairs Test\n",
    "\n",
    "In this challenge we will compare dependent samples of data describing our Pokemon. Our goal is to see whether there is a significant difference between each Pokemon's defense and attack scores. Our hypothesis is that the defense and attack scores are equal. In the cell below, import the `ttest_rel` function from `scipy.stats` and compare the two columns to see if there is a statistically significant difference between them."
   ]
  },
  {
   "cell_type": "code",
   "execution_count": 7,
   "metadata": {},
   "outputs": [
    {
     "output_type": "execute_result",
     "data": {
      "text/plain": [
       "Index(['#', 'Name', 'Type 1', 'Type 2', 'Total', 'HP', 'Attack', 'Defense',\n",
       "       'Sp. Atk', 'Sp. Def', 'Speed', 'Generation', 'Legendary'],\n",
       "      dtype='object')"
      ]
     },
     "metadata": {},
     "execution_count": 7
    }
   ],
   "source": [
    "pokemon.columns"
   ]
  },
  {
   "cell_type": "code",
   "execution_count": 9,
   "metadata": {},
   "outputs": [
    {
     "output_type": "stream",
     "name": "stdout",
     "text": [
      "P-Value:1.7140303479358558e-05 \nT-Statistic:4.325566393330478\n"
     ]
    }
   ],
   "source": [
    "# st.ttest_rel(a, b, axis=0, nan_policy='propagate')\n",
    "\n",
    "tStat, pValue = st.ttest_rel(pokemon['Attack'], pokemon['Defense'])\n",
    "print(\"P-Value:{0} \\nT-Statistic:{1}\".format(pValue,tStat))"
   ]
  },
  {
   "cell_type": "markdown",
   "metadata": {},
   "source": [
    "Describe the results of the test in the cell below."
   ]
  },
  {
   "cell_type": "code",
   "execution_count": 13,
   "metadata": {},
   "outputs": [],
   "source": [
    "# The p-value is less than 0.05 or 0.1, is statistically significant and indicates strong evidence for reject the null hypothesis."
   ]
  },
  {
   "cell_type": "markdown",
   "metadata": {},
   "source": [
    "We are also curious about whether therer is a significant difference between the mean of special defense and the mean of special attack. Perform the hypothesis test in the cell below. "
   ]
  },
  {
   "cell_type": "code",
   "execution_count": 10,
   "metadata": {},
   "outputs": [
    {
     "output_type": "stream",
     "name": "stdout",
     "text": [
      "P-Value:0.3933685997548122 \nT-Statistic:0.853986188453353\n"
     ]
    }
   ],
   "source": [
    "tStat, pValue = st.ttest_rel(pokemon['Sp. Atk'], pokemon['Sp. Def'])\n",
    "print(\"P-Value:{0} \\nT-Statistic:{1}\".format(pValue,tStat))"
   ]
  },
  {
   "cell_type": "markdown",
   "metadata": {},
   "source": [
    "Describe the results of the test in the cell below."
   ]
  },
  {
   "cell_type": "code",
   "execution_count": null,
   "metadata": {},
   "outputs": [],
   "source": [
    "# the same conclusion"
   ]
  },
  {
   "cell_type": "markdown",
   "metadata": {},
   "source": [
    "As you may recall, a two sample matched pairs test can also be expressed as a one sample test of the difference between the two dependent columns.\n",
    "\n",
    "Import the `ttest_1samp` function and perform a one sample t-test of the difference between defense and attack. Test the hypothesis that the difference between the means is zero. Confirm that the results of the test are the same."
   ]
  },
  {
   "cell_type": "code",
   "execution_count": 11,
   "metadata": {},
   "outputs": [
    {
     "output_type": "stream",
     "name": "stdout",
     "text": [
      "P-Value:1.7140303479358558e-05 \nT-Statistic:-4.325566393330478\n"
     ]
    }
   ],
   "source": [
    "# Your code here:\n",
    "pokemon['Def - Atk'] = pokemon['Defense']-pokemon['Attack']\n",
    "tStat, pValue = st.ttest_1samp(pokemon['Def - Atk'],0) # the T-stast is negative in this test and positive in the first one\n",
    "print(\"P-Value:{0} \\nT-Statistic:{1}\".format(pValue,tStat))"
   ]
  },
  {
   "cell_type": "code",
   "execution_count": 12,
   "metadata": {},
   "outputs": [
    {
     "output_type": "stream",
     "name": "stdout",
     "text": [
      "P-Value:0.3933685997548122 \nT-Statistic:-0.853986188453353\n"
     ]
    }
   ],
   "source": [
    "pokemon['S.Def - S.Atk'] = pokemon['Sp. Def']-pokemon['Sp. Atk']\n",
    "tStat, pValue = st.ttest_1samp(pokemon['S.Def - S.Atk'],0) # the T-stast is negative in this test and positive in the first one\n",
    "print(\"P-Value:{0} \\nT-Statistic:{1}\".format(pValue,tStat))"
   ]
  },
  {
   "cell_type": "markdown",
   "metadata": {},
   "source": [
    "# Bonus Challenge - The Chi-Square Test\n",
    "\n",
    "The Chi-Square test is used to determine whether there is a statistically significant difference in frequencies. In other words, we are testing whether there is a relationship between categorical variables or rather when the variables are independent. This test is an alternative to Fisher's exact test and is used in scenarios where sample sizes are larger. However, with a large enough sample size, both tests produce similar results. Read more about the Chi Squared test [here](https://en.wikipedia.org/wiki/Chi-squared_test).\n",
    "\n",
    "In the cell below, create a contingency table using `pd.crosstab` comparing whether a Pokemon is legenadary or not and whether the Type 1 of a Pokemon is water or not."
   ]
  },
  {
   "cell_type": "code",
   "execution_count": 58,
   "metadata": {},
   "outputs": [],
   "source": [
    "table = pd.crosstab(pokemon['Legendary'],pokemon['water?'])"
   ]
  },
  {
   "cell_type": "markdown",
   "metadata": {},
   "source": [
    "Perform a chi-squared test using the `chi2_contingency` function in `scipy.stats`. You can read the documentation of the function [here](https://docs.scipy.org/doc/scipy-0.15.1/reference/generated/scipy.stats.chi2_contingency.html)."
   ]
  },
  {
   "cell_type": "code",
   "execution_count": 62,
   "metadata": {},
   "outputs": [
    {
     "output_type": "stream",
     "name": "stdout",
     "text": [
      "The test statistic is 2.9429200762850503 \nThe p-value of the test is 0.08625467249550949 \nDegrees of freedom = 1 \nThe expected frequencies (array), based on the marginal sums of the table are [[632.1 102.9]\n [ 55.9   9.1]]\n"
     ]
    }
   ],
   "source": [
    "chi2, p, dof, ex = st.chi2_contingency(table)\n",
    "print('The test statistic is {0} \\nThe p-value of the test is {1} \\nDegrees of freedom = {2} \\nThe expected frequencies (array), based on the marginal sums of the table are {3}'.format(chi2,p,dof,ex))"
   ]
  },
  {
   "cell_type": "markdown",
   "metadata": {},
   "source": [
    "Based on a 95% confidence, should we reject the null hypothesis?"
   ]
  },
  {
   "cell_type": "code",
   "execution_count": null,
   "metadata": {},
   "outputs": [],
   "source": [
    "# p-value is greater than 0.05 so we have strong support to accept the null hypothesis."
   ]
  }
 ],
 "metadata": {
  "kernelspec": {
   "display_name": "Python 3",
   "language": "python",
   "name": "python3"
  },
  "language_info": {
   "codemirror_mode": {
    "name": "ipython",
    "version": 3
   },
   "file_extension": ".py",
   "mimetype": "text/x-python",
   "name": "python",
   "nbconvert_exporter": "python",
   "pygments_lexer": "ipython3",
   "version": "3.8.3-final"
  }
 },
 "nbformat": 4,
 "nbformat_minor": 2
}