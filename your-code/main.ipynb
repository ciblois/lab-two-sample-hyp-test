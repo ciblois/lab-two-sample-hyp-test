{
 "cells": [
  {
   "cell_type": "markdown",
   "metadata": {},
   "source": [
    "# Before your start:\n",
    "- Read the README.md file\n",
    "- Comment as much as you can and use the resources (README.md file)\n",
    "- Happy learning!\n",
    "\n",
    "- **Consider a significance level of 5% for all tests.**"
   ]
  },
  {
   "cell_type": "code",
   "execution_count": 27,
   "metadata": {},
   "outputs": [],
   "source": [
    "import numpy as np\n",
    "import pandas as pd\n",
    "\n",
    "import scipy.stats as st\n",
    "\n",
    "import matplotlib.pyplot as plt\n",
    "import seaborn as sns"
   ]
  },
  {
   "cell_type": "markdown",
   "metadata": {},
   "source": [
    "# Challenge 1 - Independent Sample T-tests\n",
    "\n",
    "In this challenge, we will be using the Pokemon dataset. Before applying statistical methods to this data, let's first examine the data.\n",
    "\n",
    "To load the data, run the code below."
   ]
  },
  {
   "cell_type": "code",
   "execution_count": 28,
   "metadata": {},
   "outputs": [],
   "source": [
    "# Run this code:\n",
    "\n",
    "pokemon = pd.read_csv('../pokemon.csv')"
   ]
  },
  {
   "cell_type": "markdown",
   "metadata": {},
   "source": [
    "Let's start off by looking at the `head` function in the cell below."
   ]
  },
  {
   "cell_type": "code",
   "execution_count": 29,
   "metadata": {},
   "outputs": [
    {
     "output_type": "execute_result",
     "data": {
      "text/plain": [
       "   #                   Name Type 1  Type 2  Total  HP  Attack  Defense  \\\n",
       "0  1              Bulbasaur  Grass  Poison    318  45      49       49   \n",
       "1  2                Ivysaur  Grass  Poison    405  60      62       63   \n",
       "2  3               Venusaur  Grass  Poison    525  80      82       83   \n",
       "3  3  VenusaurMega Venusaur  Grass  Poison    625  80     100      123   \n",
       "4  4             Charmander   Fire     NaN    309  39      52       43   \n",
       "\n",
       "   Sp. Atk  Sp. Def  Speed  Generation  Legendary  \n",
       "0       65       65     45           1      False  \n",
       "1       80       80     60           1      False  \n",
       "2      100      100     80           1      False  \n",
       "3      122      120     80           1      False  \n",
       "4       60       50     65           1      False  "
      ],
      "text/html": "<div>\n<style scoped>\n    .dataframe tbody tr th:only-of-type {\n        vertical-align: middle;\n    }\n\n    .dataframe tbody tr th {\n        vertical-align: top;\n    }\n\n    .dataframe thead th {\n        text-align: right;\n    }\n</style>\n<table border=\"1\" class=\"dataframe\">\n  <thead>\n    <tr style=\"text-align: right;\">\n      <th></th>\n      <th>#</th>\n      <th>Name</th>\n      <th>Type 1</th>\n      <th>Type 2</th>\n      <th>Total</th>\n      <th>HP</th>\n      <th>Attack</th>\n      <th>Defense</th>\n      <th>Sp. Atk</th>\n      <th>Sp. Def</th>\n      <th>Speed</th>\n      <th>Generation</th>\n      <th>Legendary</th>\n    </tr>\n  </thead>\n  <tbody>\n    <tr>\n      <th>0</th>\n      <td>1</td>\n      <td>Bulbasaur</td>\n      <td>Grass</td>\n      <td>Poison</td>\n      <td>318</td>\n      <td>45</td>\n      <td>49</td>\n      <td>49</td>\n      <td>65</td>\n      <td>65</td>\n      <td>45</td>\n      <td>1</td>\n      <td>False</td>\n    </tr>\n    <tr>\n      <th>1</th>\n      <td>2</td>\n      <td>Ivysaur</td>\n      <td>Grass</td>\n      <td>Poison</td>\n      <td>405</td>\n      <td>60</td>\n      <td>62</td>\n      <td>63</td>\n      <td>80</td>\n      <td>80</td>\n      <td>60</td>\n      <td>1</td>\n      <td>False</td>\n    </tr>\n    <tr>\n      <th>2</th>\n      <td>3</td>\n      <td>Venusaur</td>\n      <td>Grass</td>\n      <td>Poison</td>\n      <td>525</td>\n      <td>80</td>\n      <td>82</td>\n      <td>83</td>\n      <td>100</td>\n      <td>100</td>\n      <td>80</td>\n      <td>1</td>\n      <td>False</td>\n    </tr>\n    <tr>\n      <th>3</th>\n      <td>3</td>\n      <td>VenusaurMega Venusaur</td>\n      <td>Grass</td>\n      <td>Poison</td>\n      <td>625</td>\n      <td>80</td>\n      <td>100</td>\n      <td>123</td>\n      <td>122</td>\n      <td>120</td>\n      <td>80</td>\n      <td>1</td>\n      <td>False</td>\n    </tr>\n    <tr>\n      <th>4</th>\n      <td>4</td>\n      <td>Charmander</td>\n      <td>Fire</td>\n      <td>NaN</td>\n      <td>309</td>\n      <td>39</td>\n      <td>52</td>\n      <td>43</td>\n      <td>60</td>\n      <td>50</td>\n      <td>65</td>\n      <td>1</td>\n      <td>False</td>\n    </tr>\n  </tbody>\n</table>\n</div>"
     },
     "metadata": {},
     "execution_count": 29
    }
   ],
   "source": [
    "pokemon.head()"
   ]
  },
  {
   "cell_type": "markdown",
   "metadata": {},
   "source": [
    "The first thing we would like to do is compare the legendary Pokemon to the regular Pokemon. To do this, we should examine the data further. What is the count of legendary vs. non legendary Pokemons?"
   ]
  },
  {
   "cell_type": "code",
   "execution_count": 30,
   "metadata": {},
   "outputs": [
    {
     "output_type": "stream",
     "name": "stdout",
     "text": [
      "#Legendary:65 #Regular:735\n"
     ]
    }
   ],
   "source": [
    "legendary = pokemon[pokemon['Legendary']==True]\n",
    "regular = pokemon[pokemon['Legendary']==False]\n",
    "print(\"#Legendary:{0} #Regular:{1}\".format(legendary.shape[0],regular.shape[0]))"
   ]
  },
  {
   "cell_type": "markdown",
   "metadata": {},
   "source": [
    "Compute the mean and standard deviation of the total points for both legendary and non-legendary Pokemon."
   ]
  },
  {
   "cell_type": "code",
   "execution_count": 31,
   "metadata": {},
   "outputs": [
    {
     "output_type": "stream",
     "name": "stdout",
     "text": [
      "For Legendary:\n Mean:637.3846153846154 Standart Deviation:60.93738905315346\nFor Regular:\n Mean:417.21360544217686 Standart Deviation:106.76041745713022\n"
     ]
    }
   ],
   "source": [
    "mean_legendary = legendary['Total'].mean()\n",
    "std_legendary = legendary['Total'].std()\n",
    "\n",
    "mean_regular = regular['Total'].mean()\n",
    "std_regular = regular['Total'].std()\n",
    "\n",
    "print(\"For Legendary:\\n Mean:{0} Standart Deviation:{1}\".format(mean_legendary,std_legendary))\n",
    "print(\"For Regular:\\n Mean:{0} Standart Deviation:{1}\".format(mean_regular,std_regular))"
   ]
  },
  {
   "cell_type": "markdown",
   "metadata": {},
   "source": [
    "The computation of the mean might give us a clue regarding how the statistical test may turn out; However, it certainly does not prove whether there is a significant difference between the two groups.\n",
    "\n",
    "In the cell below, use the `ttest_ind` function in `scipy.stats` to compare the the total points for legendary and non-legendary Pokemon. Since we do not have any information about the population, assume the variances are not equal."
   ]
  },
  {
   "cell_type": "code",
   "execution_count": 32,
   "metadata": {},
   "outputs": [
    {
     "output_type": "stream",
     "name": "stdout",
     "text": [
      "P-Value:25.8335743895517 T-Statistic:9.357954335957446e-47\n"
     ]
    }
   ],
   "source": [
    "# Your code here:\n",
    "group1 = legendary['Total']\n",
    "group2 = regular['Total']\n",
    "pValue, tStat = st.ttest_ind(group1,group2, equal_var = False)\n",
    "print(\"P-Value:{0} T-Statistic:{1}\".format(pValue,tStat))"
   ]
  },
  {
   "cell_type": "markdown",
   "metadata": {},
   "source": [
    "What do you conclude from this test? Write your conclusions below."
   ]
  },
  {
   "cell_type": "code",
   "execution_count": 33,
   "metadata": {},
   "outputs": [],
   "source": [
    "# we can conclude that there is a significant difference between the two sample means because the p-value is very small."
   ]
  },
  {
   "cell_type": "markdown",
   "metadata": {},
   "source": [
    "How about we try to compare the different types of pokemon? In the cell below, list the types of Pokemon from column `Type 1` and the count of each type."
   ]
  },
  {
   "cell_type": "code",
   "execution_count": 34,
   "metadata": {},
   "outputs": [
    {
     "output_type": "execute_result",
     "data": {
      "text/plain": [
       "          Type 1\n",
       "Type 1          \n",
       "Bug           69\n",
       "Dark          31\n",
       "Dragon        32\n",
       "Electric      44\n",
       "Fairy         17\n",
       "Fighting      27\n",
       "Fire          52\n",
       "Flying         4\n",
       "Ghost         32\n",
       "Grass         70\n",
       "Ground        32\n",
       "Ice           24\n",
       "Normal        98\n",
       "Poison        28\n",
       "Psychic       57\n",
       "Rock          44\n",
       "Steel         27\n",
       "Water        112"
      ],
      "text/html": "<div>\n<style scoped>\n    .dataframe tbody tr th:only-of-type {\n        vertical-align: middle;\n    }\n\n    .dataframe tbody tr th {\n        vertical-align: top;\n    }\n\n    .dataframe thead th {\n        text-align: right;\n    }\n</style>\n<table border=\"1\" class=\"dataframe\">\n  <thead>\n    <tr style=\"text-align: right;\">\n      <th></th>\n      <th>Type 1</th>\n    </tr>\n    <tr>\n      <th>Type 1</th>\n      <th></th>\n    </tr>\n  </thead>\n  <tbody>\n    <tr>\n      <th>Bug</th>\n      <td>69</td>\n    </tr>\n    <tr>\n      <th>Dark</th>\n      <td>31</td>\n    </tr>\n    <tr>\n      <th>Dragon</th>\n      <td>32</td>\n    </tr>\n    <tr>\n      <th>Electric</th>\n      <td>44</td>\n    </tr>\n    <tr>\n      <th>Fairy</th>\n      <td>17</td>\n    </tr>\n    <tr>\n      <th>Fighting</th>\n      <td>27</td>\n    </tr>\n    <tr>\n      <th>Fire</th>\n      <td>52</td>\n    </tr>\n    <tr>\n      <th>Flying</th>\n      <td>4</td>\n    </tr>\n    <tr>\n      <th>Ghost</th>\n      <td>32</td>\n    </tr>\n    <tr>\n      <th>Grass</th>\n      <td>70</td>\n    </tr>\n    <tr>\n      <th>Ground</th>\n      <td>32</td>\n    </tr>\n    <tr>\n      <th>Ice</th>\n      <td>24</td>\n    </tr>\n    <tr>\n      <th>Normal</th>\n      <td>98</td>\n    </tr>\n    <tr>\n      <th>Poison</th>\n      <td>28</td>\n    </tr>\n    <tr>\n      <th>Psychic</th>\n      <td>57</td>\n    </tr>\n    <tr>\n      <th>Rock</th>\n      <td>44</td>\n    </tr>\n    <tr>\n      <th>Steel</th>\n      <td>27</td>\n    </tr>\n    <tr>\n      <th>Water</th>\n      <td>112</td>\n    </tr>\n  </tbody>\n</table>\n</div>"
     },
     "metadata": {},
     "execution_count": 34
    }
   ],
   "source": [
    "# Your code here:\n",
    "type1 = pokemon.groupby(['Type 1']).agg({'Type 1':'count'})\n",
    "type1"
   ]
  },
  {
   "cell_type": "markdown",
   "metadata": {},
   "source": [
    "Since water is the largest group of Pokemon, compare the mean and standard deviation of water Pokemon to all other Pokemon."
   ]
  },
  {
   "cell_type": "code",
   "execution_count": 35,
   "metadata": {},
   "outputs": [
    {
     "output_type": "execute_result",
     "data": {
      "text/plain": [
       "          Type 1  type_mean\n",
       "Type 1                     \n",
       "Bug           69    0.08625\n",
       "Dark          31    0.03875\n",
       "Dragon        32    0.04000\n",
       "Electric      44    0.05500\n",
       "Fairy         17    0.02125\n",
       "Fighting      27    0.03375\n",
       "Fire          52    0.06500\n",
       "Flying         4    0.00500\n",
       "Ghost         32    0.04000\n",
       "Grass         70    0.08750\n",
       "Ground        32    0.04000\n",
       "Ice           24    0.03000\n",
       "Normal        98    0.12250\n",
       "Poison        28    0.03500\n",
       "Psychic       57    0.07125\n",
       "Rock          44    0.05500\n",
       "Steel         27    0.03375\n",
       "Water        112    0.14000"
      ],
      "text/html": "<div>\n<style scoped>\n    .dataframe tbody tr th:only-of-type {\n        vertical-align: middle;\n    }\n\n    .dataframe tbody tr th {\n        vertical-align: top;\n    }\n\n    .dataframe thead th {\n        text-align: right;\n    }\n</style>\n<table border=\"1\" class=\"dataframe\">\n  <thead>\n    <tr style=\"text-align: right;\">\n      <th></th>\n      <th>Type 1</th>\n      <th>type_mean</th>\n    </tr>\n    <tr>\n      <th>Type 1</th>\n      <th></th>\n      <th></th>\n    </tr>\n  </thead>\n  <tbody>\n    <tr>\n      <th>Bug</th>\n      <td>69</td>\n      <td>0.08625</td>\n    </tr>\n    <tr>\n      <th>Dark</th>\n      <td>31</td>\n      <td>0.03875</td>\n    </tr>\n    <tr>\n      <th>Dragon</th>\n      <td>32</td>\n      <td>0.04000</td>\n    </tr>\n    <tr>\n      <th>Electric</th>\n      <td>44</td>\n      <td>0.05500</td>\n    </tr>\n    <tr>\n      <th>Fairy</th>\n      <td>17</td>\n      <td>0.02125</td>\n    </tr>\n    <tr>\n      <th>Fighting</th>\n      <td>27</td>\n      <td>0.03375</td>\n    </tr>\n    <tr>\n      <th>Fire</th>\n      <td>52</td>\n      <td>0.06500</td>\n    </tr>\n    <tr>\n      <th>Flying</th>\n      <td>4</td>\n      <td>0.00500</td>\n    </tr>\n    <tr>\n      <th>Ghost</th>\n      <td>32</td>\n      <td>0.04000</td>\n    </tr>\n    <tr>\n      <th>Grass</th>\n      <td>70</td>\n      <td>0.08750</td>\n    </tr>\n    <tr>\n      <th>Ground</th>\n      <td>32</td>\n      <td>0.04000</td>\n    </tr>\n    <tr>\n      <th>Ice</th>\n      <td>24</td>\n      <td>0.03000</td>\n    </tr>\n    <tr>\n      <th>Normal</th>\n      <td>98</td>\n      <td>0.12250</td>\n    </tr>\n    <tr>\n      <th>Poison</th>\n      <td>28</td>\n      <td>0.03500</td>\n    </tr>\n    <tr>\n      <th>Psychic</th>\n      <td>57</td>\n      <td>0.07125</td>\n    </tr>\n    <tr>\n      <th>Rock</th>\n      <td>44</td>\n      <td>0.05500</td>\n    </tr>\n    <tr>\n      <th>Steel</th>\n      <td>27</td>\n      <td>0.03375</td>\n    </tr>\n    <tr>\n      <th>Water</th>\n      <td>112</td>\n      <td>0.14000</td>\n    </tr>\n  </tbody>\n</table>\n</div>"
     },
     "metadata": {},
     "execution_count": 35
    }
   ],
   "source": [
    "type1['type_mean'] = type1/pokemon.shape[0]\n",
    "#type1['std'] = type1.std(axis=1)\n",
    "type1"
   ]
  },
  {
   "cell_type": "code",
   "execution_count": 36,
   "metadata": {},
   "outputs": [],
   "source": [
    "# Type Water have the highest mean among all the types."
   ]
  },
  {
   "cell_type": "markdown",
   "metadata": {},
   "source": [
    "Perform a hypothesis test comparing the mean of total points for water Pokemon to all non-water Pokemon. Assume the variances are equal. "
   ]
  },
  {
   "cell_type": "code",
   "execution_count": 43,
   "metadata": {},
   "outputs": [
    {
     "output_type": "stream",
     "name": "stdout",
     "text": [
      "P-Value:0.0 T-Statistic:1.0\n"
     ]
    }
   ],
   "source": [
    "hypothesis2 = pokemon[['Type 1','Total']]\n",
    "water_legendary = hypothesis2[(hypothesis2['Type 1']=='Water')]\n",
    "#water_legendary.shape[0] # 4 rows as expected!\n",
    "water_regular = hypothesis2[(hypothesis2['Type 1']=='Water')]\n",
    "#water_regular.shape[0] # 108 rows as expected\n",
    "\n",
    "water_mean = water_legendary['Total'].mean()\n",
    "water_std = water_legendary['Total'].std()\n",
    "water_obs = water_legendary.shape[0]\n",
    "non_water_mean = water_regular['Total'].mean()\n",
    "non_water_std = water_regular['Total'].std()\n",
    "non_water_obs = water_regular.shape[0]\n",
    "\n",
    "# scipy.stats.ttest_ind_from_stats: \n",
    "# T-test for means of two independent samples from descriptive statistics.\n",
    "# scipy.stats.ttest_ind_from_stats(mean1, std1, nobs1, mean2, std2, nobs2, equal_var=True)\n",
    "# ttest_ind_from_stats(mean1=15.0, std1=np.sqrt(87.5), nobs1=13,mean2=12.0, std2=np.sqrt(39.0), nobs2=11)\n",
    "\n",
    "pValue, tStat = st.ttest_ind_from_stats(mean1=water_mean, std1=water_std, nobs1=water_obs,mean2=non_water_mean, std2=non_water_std, nobs2=non_water_obs, equal_var = True)\n",
    "print(\"P-Value:{0} T-Statistic:{1}\".format(pValue,tStat))"
   ]
  },
  {
   "cell_type": "markdown",
   "metadata": {},
   "source": [
    "Write your conclusion below."
   ]
  },
  {
   "cell_type": "code",
   "execution_count": null,
   "metadata": {},
   "outputs": [],
   "source": [
    "# Your conclusions here:\n",
    "\n",
    "# P-value is too small. So they don't have the same average."
   ]
  },
  {
   "cell_type": "markdown",
   "metadata": {},
   "source": [
    "# Challenge 2 - Matched Pairs Test\n",
    "\n",
    "In this challenge we will compare dependent samples of data describing our Pokemon. Our goal is to see whether there is a significant difference between each Pokemon's defense and attack scores. Our hypothesis is that the defense and attack scores are equal. In the cell below, import the `ttest_rel` function from `scipy.stats` and compare the two columns to see if there is a statistically significant difference between them."
   ]
  },
  {
   "cell_type": "code",
   "execution_count": null,
   "metadata": {},
   "outputs": [],
   "source": [
    "# Your code here:\n",
    "\n"
   ]
  },
  {
   "cell_type": "markdown",
   "metadata": {},
   "source": [
    "Describe the results of the test in the cell below."
   ]
  },
  {
   "cell_type": "code",
   "execution_count": null,
   "metadata": {},
   "outputs": [],
   "source": [
    "# Your conclusions here:\n",
    "\n"
   ]
  },
  {
   "cell_type": "markdown",
   "metadata": {},
   "source": [
    "We are also curious about whether therer is a significant difference between the mean of special defense and the mean of special attack. Perform the hypothesis test in the cell below. "
   ]
  },
  {
   "cell_type": "code",
   "execution_count": null,
   "metadata": {},
   "outputs": [],
   "source": [
    "# Your code here:\n",
    "\n"
   ]
  },
  {
   "cell_type": "markdown",
   "metadata": {},
   "source": [
    "Describe the results of the test in the cell below."
   ]
  },
  {
   "cell_type": "code",
   "execution_count": null,
   "metadata": {},
   "outputs": [],
   "source": [
    "# Your conclusions here:\n",
    "\n"
   ]
  },
  {
   "cell_type": "markdown",
   "metadata": {},
   "source": [
    "As you may recall, a two sample matched pairs test can also be expressed as a one sample test of the difference between the two dependent columns.\n",
    "\n",
    "Import the `ttest_1samp` function and perform a one sample t-test of the difference between defense and attack. Test the hypothesis that the difference between the means is zero. Confirm that the results of the test are the same."
   ]
  },
  {
   "cell_type": "code",
   "execution_count": null,
   "metadata": {},
   "outputs": [],
   "source": [
    "# Your code here:\n",
    "    \n",
    "    "
   ]
  },
  {
   "cell_type": "markdown",
   "metadata": {},
   "source": [
    "# Bonus Challenge - The Chi-Square Test\n",
    "\n",
    "The Chi-Square test is used to determine whether there is a statistically significant difference in frequencies. In other words, we are testing whether there is a relationship between categorical variables or rather when the variables are independent. This test is an alternative to Fisher's exact test and is used in scenarios where sample sizes are larger. However, with a large enough sample size, both tests produce similar results. Read more about the Chi Squared test [here](https://en.wikipedia.org/wiki/Chi-squared_test).\n",
    "\n",
    "In the cell below, create a contingency table using `pd.crosstab` comparing whether a Pokemon is legenadary or not and whether the Type 1 of a Pokemon is water or not."
   ]
  },
  {
   "cell_type": "code",
   "execution_count": null,
   "metadata": {},
   "outputs": [],
   "source": [
    "# Your code here:\n",
    "\n"
   ]
  },
  {
   "cell_type": "markdown",
   "metadata": {},
   "source": [
    "Perform a chi-squared test using the `chi2_contingency` function in `scipy.stats`. You can read the documentation of the function [here](https://docs.scipy.org/doc/scipy-0.15.1/reference/generated/scipy.stats.chi2_contingency.html)."
   ]
  },
  {
   "cell_type": "code",
   "execution_count": null,
   "metadata": {},
   "outputs": [],
   "source": [
    "# Your code here:\n",
    "\n"
   ]
  },
  {
   "cell_type": "markdown",
   "metadata": {},
   "source": [
    "Based on a 95% confidence, should we reject the null hypothesis?"
   ]
  },
  {
   "cell_type": "code",
   "execution_count": null,
   "metadata": {},
   "outputs": [],
   "source": [
    "# Your answer here:\n",
    "\n"
   ]
  },
  {
   "cell_type": "code",
   "execution_count": null,
   "metadata": {},
   "outputs": [],
   "source": []
  }
 ],
 "metadata": {
  "kernelspec": {
   "display_name": "Python 3",
   "language": "python",
   "name": "python3"
  },
  "language_info": {
   "codemirror_mode": {
    "name": "ipython",
    "version": 3
   },
   "file_extension": ".py",
   "mimetype": "text/x-python",
   "name": "python",
   "nbconvert_exporter": "python",
   "pygments_lexer": "ipython3",
   "version": "3.8.3-final"
  }
 },
 "nbformat": 4,
 "nbformat_minor": 2
}